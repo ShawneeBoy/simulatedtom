{
 "cells": [
  {
   "cell_type": "code",
   "execution_count": 2,
   "metadata": {},
   "outputs": [],
   "source": [
    "import json\n",
    "import re\n",
    "import random\n",
    "import tqdm"
   ]
  },
  {
   "cell_type": "code",
   "execution_count": 75,
   "metadata": {},
   "outputs": [
    {
     "name": "stderr",
     "output_type": "stream",
     "text": [
      "100%|██████████| 6004/6004 [00:00<00:00, 41332.69it/s]\n",
      "100%|██████████| 6004/6004 [00:00<00:00, 41631.57it/s]\n",
      "100%|██████████| 6004/6004 [00:00<00:00, 43525.21it/s]\n"
     ]
    }
   ],
   "source": [
    "data_splits = [\"test\", \"train\", \"val\"]\n",
    "for data_split in data_splits:\n",
    "    with open(f\"{data_split}.txt\", \"r\") as f, open(f\"{data_split}.trace\", \"r\") as t, open(f\"{data_split}.jsonl\", \"w\") as json_f:\n",
    "        data = f.read()\n",
    "        traces = t.readlines()\n",
    "        data = data.split(\"\\t1\\n\")\n",
    "        data = data[:-1]\n",
    "        \n",
    "        for i in tqdm.tqdm(range(len(data))):\n",
    "            chunk = data[i]\n",
    "            trace = traces[i]\n",
    "            storyType, questionType = trace.split(\",\")[-1].strip(), trace.split(\",\")[-2].strip()\n",
    "            story, question, label = \"\\n\".join(chunk.split(\"\\t\")[0].strip().split(\"\\n\")[:-1]), chunk.split(\"\\t\")[0].strip().split(\"\\n\")[-1], chunk.split(\"\\t\")[1].strip()\n",
    "            question = question.split(\" \", 1)[1]\n",
    "            \n",
    "            try:\n",
    "                # Find subject of thing\n",
    "                pattern = r'\\bthe\\b\\s+(\\b[\\w-]+\\b)'\n",
    "                subject = re.findall(pattern, question, re.IGNORECASE)[0]\n",
    "                # Find containers\n",
    "                pattern = fr'\\b{subject} is in the\\b\\s+(\\b[\\w-]+\\b)'\n",
    "                container1 = re.findall(pattern, story, re.IGNORECASE)[0]\n",
    "                pattern = fr'\\b{subject} to the\\b\\s+(\\b[\\w-]+\\b)'\n",
    "                container2 = re.findall(pattern, story, re.IGNORECASE)[0]\n",
    "                containers = [container1, container2]\n",
    "                random.shuffle(containers)\n",
    "            except:\n",
    "                break\n",
    "            \n",
    "            \n",
    "            jsonData = {\n",
    "                            \"story\": story,\n",
    "                            \"question\": question,\n",
    "                            \"answer\": label,\n",
    "                            \"story_type\": storyType,\n",
    "                            \"question_type\": questionType,\n",
    "                            \"containers\" : containers\n",
    "                        }\n",
    "            \n",
    "            json_f.write(json.dumps(jsonData)+\"\\n\")"
   ]
  },
  {
   "cell_type": "code",
   "execution_count": 8,
   "metadata": {},
   "outputs": [
    {
     "name": "stderr",
     "output_type": "stream",
     "text": [
      "  0%|          | 0/6004 [00:00<?, ?it/s]"
     ]
    },
    {
     "name": "stderr",
     "output_type": "stream",
     "text": [
      "100%|██████████| 6004/6004 [00:00<00:00, 53800.81it/s]"
     ]
    },
    {
     "name": "stdout",
     "output_type": "stream",
     "text": [
      "{'second_order_0_no_tom': 100, 'first_order_1_no_tom': 100, 'reality': 100, 'first_order_0_no_tom': 100, 'first_order_1_tom': 100, 'second_order_1_tom': 100, 'second_order_1_no_tom': 100, 'first_order_0_tom': 100, 'memory': 100, 'second_order_0_tom': 100}\n"
     ]
    },
    {
     "name": "stderr",
     "output_type": "stream",
     "text": [
      "\n"
     ]
    }
   ],
   "source": [
    "# Balanced split\n",
    "data_splits = [\"test\"]\n",
    "maxPerCat = 100\n",
    "\n",
    "for data_split in data_splits:\n",
    "    categories = {}\n",
    "    with open(f\"{data_split}.txt\", \"r\") as f, open(f\"{data_split}.trace\", \"r\") as t, open(f\"{data_split}_balanced.jsonl\", \"w\") as json_f:\n",
    "        data = f.read()\n",
    "        traces = t.readlines()\n",
    "        data = data.split(\"\\t1\\n\")\n",
    "        data = data[:-1]\n",
    "        \n",
    "        for i in tqdm.tqdm(range(len(data))):\n",
    "            chunk = data[i]\n",
    "            trace = traces[i]\n",
    "            storyType, questionType = trace.split(\",\")[-1].strip(), trace.split(\",\")[-2].strip()\n",
    "            story, question, label = \"\\n\".join(chunk.split(\"\\t\")[0].strip().split(\"\\n\")[:-1]), chunk.split(\"\\t\")[0].strip().split(\"\\n\")[-1], chunk.split(\"\\t\")[1].strip()\n",
    "            question = question.split(\" \", 1)[1]\n",
    "            \n",
    "            try:\n",
    "                # Find subject of thing\n",
    "                pattern = r'\\bthe\\b\\s+(\\b[\\w-]+\\b)'\n",
    "                subject = re.findall(pattern, question, re.IGNORECASE)[0]\n",
    "                # Find containers\n",
    "                pattern = fr'\\b{subject} is in the\\b\\s+(\\b[\\w-]+\\b)'\n",
    "                container1 = re.findall(pattern, story, re.IGNORECASE)[0]\n",
    "                pattern = fr'\\b{subject} to the\\b\\s+(\\b[\\w-]+\\b)'\n",
    "                container2 = re.findall(pattern, story, re.IGNORECASE)[0]\n",
    "                containers = [container1, container2]\n",
    "                random.shuffle(containers)\n",
    "            except:\n",
    "                break\n",
    "            \n",
    "            \n",
    "            jsonData = {\n",
    "                            \"story\": story,\n",
    "                            \"question\": question,\n",
    "                            \"answer\": label,\n",
    "                            \"story_type\": storyType,\n",
    "                            \"question_type\": questionType,\n",
    "                            \"containers\" : containers\n",
    "                        }\n",
    "            \n",
    "            if categories.get(questionType, 0) >= maxPerCat:\n",
    "                continue\n",
    "            \n",
    "            categories[questionType] = categories.get(questionType, 0) + 1\n",
    "            \n",
    "            \n",
    "            json_f.write(json.dumps(jsonData)+\"\\n\")\n",
    "        \n",
    "print(categories)"
   ]
  },
  {
   "cell_type": "code",
   "execution_count": 9,
   "metadata": {},
   "outputs": [],
   "source": [
    "def shuffle_jsonl(file_path):\n",
    "    # Read data\n",
    "    with open(file_path, 'r') as f:\n",
    "        lines = f.readlines()\n",
    "\n",
    "    # Decode JSON objects\n",
    "    data = [json.loads(line) for line in lines]\n",
    "\n",
    "    # Shuffle data\n",
    "    random.shuffle(data)\n",
    "\n",
    "    # Encode JSON objects\n",
    "    shuffled_lines = [json.dumps(obj) + '\\n' for obj in data]\n",
    "\n",
    "    # Write data\n",
    "    with open(file_path, 'w') as f:\n",
    "        f.writelines(shuffled_lines)\n",
    "        \n",
    "shuffle_jsonl(\"test_balanced.jsonl\")"
   ]
  }
 ],
 "metadata": {
  "kernelspec": {
   "display_name": "sandbox",
   "language": "python",
   "name": "python3"
  },
  "language_info": {
   "codemirror_mode": {
    "name": "ipython",
    "version": 3
   },
   "file_extension": ".py",
   "mimetype": "text/x-python",
   "name": "python",
   "nbconvert_exporter": "python",
   "pygments_lexer": "ipython3",
   "version": "3.11.3"
  },
  "orig_nbformat": 4
 },
 "nbformat": 4,
 "nbformat_minor": 2
}
